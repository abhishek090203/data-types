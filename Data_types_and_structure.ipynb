{
  "nbformat": 4,
  "nbformat_minor": 0,
  "metadata": {
    "colab": {
      "provenance": []
    },
    "kernelspec": {
      "name": "python3",
      "display_name": "Python 3"
    },
    "language_info": {
      "name": "python"
    }
  },
  "cells": [
    {
      "cell_type": "markdown",
      "source": [
        "1. What are data structures, and why are they important?\n",
        "\n",
        "Ans.\n",
        "Data structure is a way to organize data in a proper manner so it can be accessed and manipulated later to do work or task.\n",
        "\n",
        "    Importance:\n",
        "efficiency, scalibility, data organization, etc.\n",
        "\n",
        "2.  Explain the difference between mutable and immutable data types with examples?\n",
        "\n",
        "Ans.\n",
        "Mutable data types can be changed after creating but the immutable data types can not be changed after creation.\n",
        "Example:\n",
        "        mutable- lists,sets, etc\n",
        "        immutable- tuple,strings, etc\n",
        "\n",
        "3. What are the main differences between lists and tuples in Python?\n",
        "\n",
        "Ans:\n",
        "The main difference is mutability. The list is mutable and tuple are immutable. list use more memory but tuple uses less memory.\n",
        "\n",
        "\n",
        "4. Describe how dictionaries store data?\n",
        "\n",
        "Ans:\n",
        "Dictionary store data in the form of hash and keys so can easily accessable and locate.\n",
        "\n",
        "example:\n",
        "    my_dict = {\"name\": \"Alice\", \"age\": 25, \"city\": \"Sydney\"}\n",
        "\n",
        "5. Why might you use a set instead of a list in Python?\n",
        "\n",
        "Ans:\n",
        "Because in sets it takes only unique values and take less storage as compare to list.\n",
        "\n",
        "6. What is a string in Python, and how is it different from a list?\n",
        "\n",
        "Ans:\n",
        "Strings are a sequence of character enclosed in '' , \"\", ''' ''' coated. strings are immutable weather lists are immutable.\n",
        "\n",
        "\n",
        "7. How do tuples ensure data integrity in Python?\n",
        "\n",
        "Ans:\n",
        "Because tuples are immutable once after creation it can not be changed which ensures its integrity.\n",
        "\n",
        "8. What is a hash table, and how does it relate to dictionaries in Python?\n",
        "\n",
        "Ans:\n",
        "It is a data structure which stores the key values so it can be easily accessable.\n",
        "\n",
        "9. Can lists contain different data types in Python?\n",
        "\n",
        "Ans:\n",
        "yes, lists can contains any value either its string, integer, float character,etc.\n",
        "\n",
        "10. Explain why strings are immutable in Python?\n",
        "\n",
        "Ans:\n",
        "To improve efficiency, less memory.\n",
        "And in the real world we need something in our daily life which we don't want to change. like name,ids etc.\n",
        "\n",
        "11. What advantages do dictionaries offer over lists for certain tasks?\n",
        "\n",
        "Ans:less memory, easy maniputable due to key values, store data in key pairs, etc.\n",
        "\n",
        "12. Describe a scenario where using a tuple would be preferable over a list?\n",
        "\n",
        "Ans:\n",
        "Imagine you are working on a program that requires a set of configuration settings, such as resolution and frame rate for a video processing application. These settings are fixed once the application starts and should not change throughout the program’s execution.\n",
        "In this case, using a tuple would be preferable over a list\n",
        "\n",
        "13. How do sets handle duplicate values in Python?\n",
        "\n",
        "Ans:\n",
        "Sets store only unique characters if we try to duplicate something in set it would be totally ignored.\n",
        "\n",
        "ex:\n",
        "s={1,2,3,2,1}\n",
        "print(s)\n",
        "output= {1,2,3}\n",
        "\n",
        "\n",
        "14. How does the “in” keyword work differently for lists and dictionaries?\n",
        "\n",
        "Ans:\n",
        "In checks the value present in the list and return boolean but in dictionary it checks the keys not the values.\n",
        "\n",
        "15. Can you modify the elements of a tuple? Explain why or why not?\n",
        "\n",
        "Ans:\n",
        "No, we can not modify tuples because they are immutable.\n",
        "it can not be modified because of memory efficiency, safety and integrity.\n",
        "\n",
        "16.  What is a nested dictionary, and give an example of its use case?\n",
        "\n",
        "Ans:\n",
        "Nested dictionary is a dictionary in which the values of keys are also dictionary.\n",
        "\n",
        "example:\n",
        "students = {\n",
        "    \"Alice\": {\n",
        "        \"age\": 21,\n",
        "        \"major\": \"Computer Science\",\n",
        "        \"grades\": {\"math\": 85, \"english\": 90, \"history\": 88}\n",
        "    }\n",
        "}\n",
        "\n",
        "\n",
        "18. In what situations are lists preferred over dictionaries?\n",
        "\n",
        "Ans:\n",
        "situations like when you need to make grocery list for market at an instance you need to edit it so easily accessable and can be edited and when you need to call the character according to sequence its very helpful.\n",
        "\n",
        "19. Why are dictionaries considered unordered, and how does that affect data retrieval?\n",
        "\n",
        "Ans:\n",
        "Because data stored in dictionaries their key values are unordered not in a proper sequence.\n",
        "it affect data retrieval because of time complexity decreases.\n",
        "\n",
        "20. Explain the difference between a list and a dictionary in terms of data retrieval?\n",
        "\n",
        "Ans:\n",
        "In list it slower the time because we need to check the whole list for one character but in dictionary it can come up by key value easily.\n",
        "\n"
      ],
      "metadata": {
        "id": "xDJR-ym9gAuM"
      }
    },
    {
      "cell_type": "markdown",
      "source": [
        "Coding Questions\n",
        "\n",
        "1. Write a code to create a string with your name and print it."
      ],
      "metadata": {
        "id": "HEIT23SXY7Ic"
      }
    },
    {
      "cell_type": "code",
      "execution_count": 1,
      "metadata": {
        "id": "JSrwtXr5f4Bn",
        "colab": {
          "base_uri": "https://localhost:8080/"
        },
        "outputId": "a674b512-6cec-4991-cd63-8527e5dff0aa"
      },
      "outputs": [
        {
          "output_type": "stream",
          "name": "stdout",
          "text": [
            "Abhishek\n"
          ]
        }
      ],
      "source": [
        "name= \"Abhishek\"\n",
        "print(name)"
      ]
    },
    {
      "cell_type": "markdown",
      "source": [
        "2. Write a code to find the length of the string \"Hello World\"."
      ],
      "metadata": {
        "id": "zsgo-cJ9ZUis"
      }
    },
    {
      "cell_type": "code",
      "source": [
        "st= \"Hello World\"\n",
        "print(len(st))"
      ],
      "metadata": {
        "colab": {
          "base_uri": "https://localhost:8080/"
        },
        "id": "YGJhoS7BZZY2",
        "outputId": "b0daa092-9b96-4189-9a41-ec5f2577ca01"
      },
      "execution_count": 2,
      "outputs": [
        {
          "output_type": "stream",
          "name": "stdout",
          "text": [
            "11\n"
          ]
        }
      ]
    },
    {
      "cell_type": "markdown",
      "source": [
        "3. Write a code to slice the first 3 characters from the string \"Python Programming."
      ],
      "metadata": {
        "id": "Y184Y-dzZnfQ"
      }
    },
    {
      "cell_type": "code",
      "source": [
        "st= \"Python Programming\"\n",
        "print(st[0:3])"
      ],
      "metadata": {
        "id": "z5wzNAlRZsRv"
      },
      "execution_count": null,
      "outputs": []
    },
    {
      "cell_type": "markdown",
      "source": [
        "4. Write a code to convert the string \"hello\" to uppercase.\n"
      ],
      "metadata": {
        "id": "y3fF9GVEZ4Rd"
      }
    },
    {
      "cell_type": "code",
      "source": [
        "st= \"hello\"\n",
        "print(st.upper())"
      ],
      "metadata": {
        "colab": {
          "base_uri": "https://localhost:8080/"
        },
        "id": "4UARDgP-Z9UI",
        "outputId": "674c6c00-ff4d-4f2d-9fc9-118411a74221"
      },
      "execution_count": 3,
      "outputs": [
        {
          "output_type": "stream",
          "name": "stdout",
          "text": [
            "HELLO\n"
          ]
        }
      ]
    },
    {
      "cell_type": "markdown",
      "source": [
        "5. Write a code to replace the word \"apple\" with \"orange\" in the string \"I like apple\"."
      ],
      "metadata": {
        "id": "X6pHGOx6aEM5"
      }
    },
    {
      "cell_type": "code",
      "source": [
        "st= \"I like apple\"\n",
        "print(st.replace(\"apple\",\"orange\"))"
      ],
      "metadata": {
        "colab": {
          "base_uri": "https://localhost:8080/"
        },
        "id": "aDd1jbVRaKzt",
        "outputId": "d841d438-1bc5-44c8-9b07-ac85eb1844b7"
      },
      "execution_count": 5,
      "outputs": [
        {
          "output_type": "stream",
          "name": "stdout",
          "text": [
            "I like orange\n"
          ]
        }
      ]
    },
    {
      "cell_type": "markdown",
      "source": [
        "6.  Write a code to create a list with numbers 1 to 5 and print it."
      ],
      "metadata": {
        "id": "t_5nYiUHao8N"
      }
    },
    {
      "cell_type": "code",
      "source": [
        "number=[]\n",
        "for i in range(1,6):\n",
        "  number.append(i)\n",
        "print(number)"
      ],
      "metadata": {
        "colab": {
          "base_uri": "https://localhost:8080/"
        },
        "id": "44X5Jm_la1O4",
        "outputId": "d1aab221-332c-4f30-fbb7-096827fb5f1a"
      },
      "execution_count": 9,
      "outputs": [
        {
          "output_type": "stream",
          "name": "stdout",
          "text": [
            "[1, 2, 3, 4, 5]\n"
          ]
        }
      ]
    },
    {
      "cell_type": "markdown",
      "source": [
        "7. Write a code to append the number 10 to the list [1, 2, 3, 4]."
      ],
      "metadata": {
        "id": "Hn-AkXAEb2Nl"
      }
    },
    {
      "cell_type": "code",
      "source": [
        "list= [1,2,3,4]\n",
        "list.append(10)\n",
        "print(list)"
      ],
      "metadata": {
        "colab": {
          "base_uri": "https://localhost:8080/"
        },
        "id": "zZGbfe5Bb81D",
        "outputId": "5ebd7a69-2578-4981-d0cd-e1cc45dcae19"
      },
      "execution_count": 10,
      "outputs": [
        {
          "output_type": "stream",
          "name": "stdout",
          "text": [
            "[1, 2, 3, 4, 10]\n"
          ]
        }
      ]
    },
    {
      "cell_type": "markdown",
      "source": [
        "8. Write a code to remove the number 3 from the list [1, 2, 3, 4, 5]."
      ],
      "metadata": {
        "id": "lBzf-9wjcIrh"
      }
    },
    {
      "cell_type": "code",
      "source": [
        "ls= [1,2,3,4,5]\n",
        "ls.remove(3)\n",
        "print(ls)"
      ],
      "metadata": {
        "colab": {
          "base_uri": "https://localhost:8080/"
        },
        "id": "gtD3j3tkcMtZ",
        "outputId": "46e72ab4-520c-4458-9736-45f24d30c636"
      },
      "execution_count": 11,
      "outputs": [
        {
          "output_type": "stream",
          "name": "stdout",
          "text": [
            "[1, 2, 4, 5]\n"
          ]
        }
      ]
    },
    {
      "cell_type": "markdown",
      "source": [
        "9. Write a code to access the second element in the list ['a', 'b', 'c', 'd']."
      ],
      "metadata": {
        "id": "c9KugOsucXdz"
      }
    },
    {
      "cell_type": "code",
      "source": [
        "ls= ['a', 'b', 'c', 'd']\n",
        "print(ls[1])"
      ],
      "metadata": {
        "colab": {
          "base_uri": "https://localhost:8080/"
        },
        "id": "ksmNH0reccN_",
        "outputId": "9cc0cfc2-9c7e-4650-b05c-2d99e26ac6a1"
      },
      "execution_count": 13,
      "outputs": [
        {
          "output_type": "stream",
          "name": "stdout",
          "text": [
            "b\n"
          ]
        }
      ]
    },
    {
      "cell_type": "markdown",
      "source": [
        "10. Write a code to reverse the list [10, 20, 30, 40, 50]"
      ],
      "metadata": {
        "id": "bY8lffAeco-8"
      }
    },
    {
      "cell_type": "code",
      "source": [
        "ls=[10, 20, 30, 40, 50]\n",
        "ls.reverse()\n",
        "print(ls)"
      ],
      "metadata": {
        "colab": {
          "base_uri": "https://localhost:8080/"
        },
        "id": "i58hZyRActDX",
        "outputId": "c730866e-a0a6-492b-b836-ca2ad628babd"
      },
      "execution_count": 14,
      "outputs": [
        {
          "output_type": "stream",
          "name": "stdout",
          "text": [
            "[50, 40, 30, 20, 10]\n"
          ]
        }
      ]
    },
    {
      "cell_type": "markdown",
      "source": [
        "11. Write a code to create a tuple with the elements 100, 200, 300 and print it."
      ],
      "metadata": {
        "id": "sRjGens1c1Cm"
      }
    },
    {
      "cell_type": "code",
      "source": [
        "t= (100,200,300)\n",
        "print(t)"
      ],
      "metadata": {
        "colab": {
          "base_uri": "https://localhost:8080/"
        },
        "id": "rHeR-H1fc7ha",
        "outputId": "f943d3f1-d436-40b9-a7a6-a23d0632455f"
      },
      "execution_count": 15,
      "outputs": [
        {
          "output_type": "stream",
          "name": "stdout",
          "text": [
            "<class 'tuple'>\n"
          ]
        }
      ]
    },
    {
      "cell_type": "markdown",
      "source": [
        "12. Write a code to access the second-to-last element of the tuple ('red', 'green', 'blue', 'yellow')"
      ],
      "metadata": {
        "id": "9prrDrirdH8t"
      }
    },
    {
      "cell_type": "code",
      "source": [
        "t=('red', 'green', 'blue', 'yellow')\n",
        "print(t[1:4])"
      ],
      "metadata": {
        "colab": {
          "base_uri": "https://localhost:8080/"
        },
        "id": "Cjj1ypnZdNfZ",
        "outputId": "5aaab565-4bcd-4d78-ef15-a3c7f43d2d7c"
      },
      "execution_count": 16,
      "outputs": [
        {
          "output_type": "stream",
          "name": "stdout",
          "text": [
            "('green', 'blue', 'yellow')\n"
          ]
        }
      ]
    },
    {
      "cell_type": "markdown",
      "source": [
        "13. Write a code to find the minimum number in the tuple (10, 20, 5, 15)"
      ],
      "metadata": {
        "id": "cqPuKCiodcJw"
      }
    },
    {
      "cell_type": "code",
      "source": [
        "t=(10, 20, 5, 15)\n",
        "for i in t:\n",
        "  minimum=min(t)\n",
        "print(minimum)"
      ],
      "metadata": {
        "colab": {
          "base_uri": "https://localhost:8080/"
        },
        "id": "QabL0WC-de0n",
        "outputId": "ab6b6ffc-31a2-470e-8fcc-1313fa13c9b9"
      },
      "execution_count": 18,
      "outputs": [
        {
          "output_type": "stream",
          "name": "stdout",
          "text": [
            "5\n"
          ]
        }
      ]
    },
    {
      "cell_type": "markdown",
      "source": [
        "14. Write a code to find the index of the element \"cat\" in the tuple ('dog', 'cat', 'rabbit')"
      ],
      "metadata": {
        "id": "Jeb8hE8Id4qf"
      }
    },
    {
      "cell_type": "code",
      "source": [
        "t=('dog', 'cat', 'rabbit')\n",
        "print(t.index('cat'))\n"
      ],
      "metadata": {
        "colab": {
          "base_uri": "https://localhost:8080/"
        },
        "id": "AT1GbLUGePJj",
        "outputId": "52add6a9-8c01-415e-95ff-ffd50403c67f"
      },
      "execution_count": 21,
      "outputs": [
        {
          "output_type": "stream",
          "name": "stdout",
          "text": [
            "1\n"
          ]
        }
      ]
    },
    {
      "cell_type": "markdown",
      "source": [
        "15. Write a code to create a tuple containing three different fruits and check if \"kiwi\" is in it"
      ],
      "metadata": {
        "id": "5AC5SmpTfFUr"
      }
    },
    {
      "cell_type": "code",
      "source": [
        "fruits = ('apple', 'banana', 'orange')\n",
        "\n",
        "if 'kiwi' in fruits:\n",
        "  print(\"Kiwi is in the tuple.\")"
      ],
      "metadata": {
        "id": "dE3xmwr0fMTi"
      },
      "execution_count": 28,
      "outputs": []
    },
    {
      "cell_type": "markdown",
      "source": [
        "16. Write a code to create a set with the elements 'a', 'b', 'c' and print it."
      ],
      "metadata": {
        "id": "B_5sIWbcgKXd"
      }
    },
    {
      "cell_type": "code",
      "source": [
        "s={'a','b','c'}\n",
        "print(s)"
      ],
      "metadata": {
        "id": "iMAQXqTLgPdn"
      },
      "execution_count": null,
      "outputs": []
    },
    {
      "cell_type": "markdown",
      "source": [
        "17. Write a code to clear all elements from the set {1, 2, 3, 4, 5}."
      ],
      "metadata": {
        "id": "H9XjfNJ8gVfd"
      }
    },
    {
      "cell_type": "code",
      "source": [
        "s={1,2,3,4,5}\n",
        "s.clear()\n",
        "print(s)"
      ],
      "metadata": {
        "colab": {
          "base_uri": "https://localhost:8080/"
        },
        "id": "9qDP0IcEgZqr",
        "outputId": "bed3b09e-8eb9-4998-c5ae-efb1e8b2d8e4"
      },
      "execution_count": 29,
      "outputs": [
        {
          "output_type": "stream",
          "name": "stdout",
          "text": [
            "set()\n"
          ]
        }
      ]
    },
    {
      "cell_type": "markdown",
      "source": [
        "18. Write a code to remove the element 4 from the set {1, 2, 3, 4}."
      ],
      "metadata": {
        "id": "EvKLRpMlghLE"
      }
    },
    {
      "cell_type": "code",
      "source": [
        "s={1,2,3,4}\n",
        "s.remove(4)\n",
        "print(s)"
      ],
      "metadata": {
        "colab": {
          "base_uri": "https://localhost:8080/"
        },
        "id": "iK6jMJD1gmIP",
        "outputId": "3f015abc-ccc2-45be-ea5b-5fe8d8ecca69"
      },
      "execution_count": 30,
      "outputs": [
        {
          "output_type": "stream",
          "name": "stdout",
          "text": [
            "{1, 2, 3}\n"
          ]
        }
      ]
    },
    {
      "cell_type": "markdown",
      "source": [
        "19. Write a code to find the union of two sets {1, 2, 3} and {3, 4, 5}"
      ],
      "metadata": {
        "id": "3rQy_muFgunv"
      }
    },
    {
      "cell_type": "code",
      "source": [
        "s1={1,2,3}\n",
        "s2={3,4,5}\n",
        "union=s1.union(s2)\n",
        "print(union)"
      ],
      "metadata": {
        "colab": {
          "base_uri": "https://localhost:8080/"
        },
        "id": "TJcuURmagy8e",
        "outputId": "85ea5146-8c46-476b-b177-6912353b3f80"
      },
      "execution_count": 31,
      "outputs": [
        {
          "output_type": "stream",
          "name": "stdout",
          "text": [
            "{1, 2, 3, 4, 5}\n"
          ]
        }
      ]
    },
    {
      "cell_type": "markdown",
      "source": [
        "20.  Write a code to find the intersection of two sets {1, 2, 3} and {2, 3, 4}"
      ],
      "metadata": {
        "id": "IudD-TmEhFg7"
      }
    },
    {
      "cell_type": "code",
      "source": [
        "s1={1,2,3}\n",
        "s2={2,3,4}\n",
        "intersection=s1.intersection(s2)\n",
        "print(intersection)"
      ],
      "metadata": {
        "colab": {
          "base_uri": "https://localhost:8080/"
        },
        "id": "821i9xODhJMc",
        "outputId": "017b8d29-fbea-4075-e0b3-3eb8343113a6"
      },
      "execution_count": 32,
      "outputs": [
        {
          "output_type": "stream",
          "name": "stdout",
          "text": [
            "{2, 3}\n"
          ]
        }
      ]
    },
    {
      "cell_type": "markdown",
      "source": [
        "21. Write a code to create a dictionary with the keys \"name\", \"age\", and \"city\", and print it"
      ],
      "metadata": {
        "id": "zJGkCrzShWLE"
      }
    },
    {
      "cell_type": "code",
      "source": [
        "dict={name:\"Abhishek\",age:22,city:\"Syd\"}\n",
        "print(dict)"
      ],
      "metadata": {
        "id": "f4c6tWzphaA1"
      },
      "execution_count": null,
      "outputs": []
    },
    {
      "cell_type": "markdown",
      "source": [
        "22. Write a code to add a new key-value pair \"country\": \"USA\" to the dictionary {'name': 'John', 'age': 25}"
      ],
      "metadata": {
        "id": "rFIUtRLrhlxt"
      }
    },
    {
      "cell_type": "code",
      "source": [
        "dict={'name': 'John', 'age': 25}\n",
        "dict.update({'country':'USA'})\n",
        "print(dict)"
      ],
      "metadata": {
        "colab": {
          "base_uri": "https://localhost:8080/"
        },
        "id": "f-TbC2TxhqHi",
        "outputId": "edab99f1-7c19-4fbe-976a-d8b6eb574171"
      },
      "execution_count": 36,
      "outputs": [
        {
          "output_type": "stream",
          "name": "stdout",
          "text": [
            "{'name': 'John', 'age': 25, 'country': 'USA'}\n"
          ]
        }
      ]
    },
    {
      "cell_type": "markdown",
      "source": [
        "23. Write a code to access the value associated with the key \"name\" in the dictionary {'name': 'Alice', 'age': 30}."
      ],
      "metadata": {
        "id": "ALfFrhE5icJj"
      }
    },
    {
      "cell_type": "code",
      "source": [
        "dict={'name': 'Alice', 'age': 30}\n",
        "name=dict['name']\n",
        "print(name)"
      ],
      "metadata": {
        "id": "JKgVRP7NifqE"
      },
      "execution_count": null,
      "outputs": []
    },
    {
      "cell_type": "markdown",
      "source": [
        "24.  Write a code to remove the key \"age\" from the dictionary {'name': 'Bob', 'age': 22, 'city': 'New York'}"
      ],
      "metadata": {
        "id": "qXxYMbv0iw_H"
      }
    },
    {
      "cell_type": "code",
      "source": [
        "dict={'name': 'Bob', 'age': 22, 'city': 'New York'}\n",
        "dict.pop('age')\n",
        "print(dict)\n"
      ],
      "metadata": {
        "id": "tcDkpm6Vi040"
      },
      "execution_count": null,
      "outputs": []
    },
    {
      "cell_type": "markdown",
      "source": [
        "25.Write a code to check if the key \"city\" exists in the dictionary {'name': 'Alice', 'city': 'Paris'}"
      ],
      "metadata": {
        "id": "8sLe026QjLwk"
      }
    },
    {
      "cell_type": "code",
      "source": [
        "dict={'name': 'Alice', 'city': 'Paris'}\n",
        "if 'city' in dict:\n",
        "  print(\"City exists in the dictionary.\")"
      ],
      "metadata": {
        "colab": {
          "base_uri": "https://localhost:8080/"
        },
        "id": "lAF9CUTGjPjj",
        "outputId": "8b59932c-7765-4176-c001-753ba1d4fd1f"
      },
      "execution_count": 37,
      "outputs": [
        {
          "output_type": "stream",
          "name": "stdout",
          "text": [
            "City exists in the dictionary.\n"
          ]
        }
      ]
    },
    {
      "cell_type": "markdown",
      "source": [
        "26. Write a code to create a list, a tuple, and a dictionary, and print them all."
      ],
      "metadata": {
        "id": "vFbyJAJ1jdS3"
      }
    },
    {
      "cell_type": "code",
      "source": [
        "list=[1,2,3,4]\n",
        "tuple=(1,2,3,4)\n",
        "dict={'name':'Abhishek','age':22}\n",
        "print(list)\n",
        "print(tuple)\n",
        "print(dict)"
      ],
      "metadata": {
        "colab": {
          "base_uri": "https://localhost:8080/"
        },
        "id": "I7tRVZjWjnm0",
        "outputId": "78c6cd0c-cc3a-4d05-f1c6-c57c3b4479be"
      },
      "execution_count": 38,
      "outputs": [
        {
          "output_type": "stream",
          "name": "stdout",
          "text": [
            "[1, 2, 3, 4]\n",
            "(1, 2, 3, 4)\n",
            "{'name': 'Abhishek', 'age': 22}\n"
          ]
        }
      ]
    },
    {
      "cell_type": "markdown",
      "source": [
        "27. Write a code to create a list of 5 random numbers between 1 and 100, sort it in ascending order, and print the\n",
        "result.(replaced)"
      ],
      "metadata": {
        "id": "Lr_AF0MVjzgI"
      }
    },
    {
      "cell_type": "code",
      "source": [
        "list=[34,76,31,65,74,12,1,2,4]\n",
        "list.sort()\n",
        "print(list)"
      ],
      "metadata": {
        "colab": {
          "base_uri": "https://localhost:8080/"
        },
        "id": "a1wJARWGj47-",
        "outputId": "749117c3-f870-40ab-8e5e-d221b537fb72"
      },
      "execution_count": 40,
      "outputs": [
        {
          "output_type": "stream",
          "name": "stdout",
          "text": [
            "[1, 2, 4, 12, 31, 34, 65, 74, 76]\n"
          ]
        }
      ]
    },
    {
      "cell_type": "markdown",
      "source": [
        "28. Write a code to create a list with strings and print the element at the third index."
      ],
      "metadata": {
        "id": "Mv4FzE4BkSzo"
      }
    },
    {
      "cell_type": "code",
      "source": [
        "list=[34,76,31,65,74,12,1,2,4]\n",
        "print(list[3])"
      ],
      "metadata": {
        "id": "gIoet-qXkZUz"
      },
      "execution_count": null,
      "outputs": []
    },
    {
      "cell_type": "markdown",
      "source": [
        "29. Write a code to combine two dictionaries into one and print the result."
      ],
      "metadata": {
        "id": "uIEyU7m9k0ub"
      }
    },
    {
      "cell_type": "code",
      "source": [
        "list1=[34,76,31,65,74,12,1,2,4]\n",
        "list2=[1,2,3,4]\n",
        "list1.extend(list2)\n",
        "print(list1)\n"
      ],
      "metadata": {
        "colab": {
          "base_uri": "https://localhost:8080/"
        },
        "id": "tSywVYdKk331",
        "outputId": "351038d0-1878-4c6c-b236-86e1a3fe40d8"
      },
      "execution_count": 42,
      "outputs": [
        {
          "output_type": "stream",
          "name": "stdout",
          "text": [
            "[34, 76, 31, 65, 74, 12, 1, 2, 4, 1, 2, 3, 4]\n"
          ]
        }
      ]
    },
    {
      "cell_type": "markdown",
      "source": [
        "30. Write a code to convert a list of strings into a set"
      ],
      "metadata": {
        "id": "-bFFIZh6lSq4"
      }
    },
    {
      "cell_type": "code",
      "source": [
        "ls=['apple','banana','orange']\n",
        "s=set(ls)\n",
        "print(s)"
      ],
      "metadata": {
        "id": "pjPXO2KslWVJ"
      },
      "execution_count": null,
      "outputs": []
    }
  ]
}